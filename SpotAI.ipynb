{
  "nbformat": 4,
  "nbformat_minor": 0,
  "metadata": {
    "colab": {
      "provenance": [],
      "authorship_tag": "ABX9TyMDhgmD0FEzQXV2EvWaIOLR",
      "include_colab_link": true
    },
    "kernelspec": {
      "name": "python3",
      "display_name": "Python 3"
    },
    "language_info": {
      "name": "python"
    }
  },
  "cells": [
    {
      "cell_type": "markdown",
      "metadata": {
        "id": "view-in-github",
        "colab_type": "text"
      },
      "source": [
        "<a href=\"https://colab.research.google.com/github/nemat-al/SpotAI/blob/main/SpotAI.ipynb\" target=\"_parent\"><img src=\"https://colab.research.google.com/assets/colab-badge.svg\" alt=\"Open In Colab\"/></a>"
      ]
    },
    {
      "cell_type": "code",
      "source": [],
      "metadata": {
        "id": "YUbVe04TzCgA"
      },
      "execution_count": 1,
      "outputs": []
    },
    {
      "cell_type": "markdown",
      "source": [
        "### Geoifpy"
      ],
      "metadata": {
        "id": "vejOVJPA0spD"
      }
    },
    {
      "cell_type": "code",
      "execution_count": null,
      "metadata": {
        "id": "uqTtYdGYwroU"
      },
      "outputs": [],
      "source": [
        "import requests\n",
        "\n",
        "def search_place(query, location):\n",
        "    url = \"https://api.geoapify.com/v2/places\"\n",
        "    params = {\n",
        "        \"text\": query,\n",
        "        \"location\": location, # Pass coordinates if required\n",
        "        \"apiKey\": GEOAPIFY_API_KEY,\n",
        "        \"type\": \"restaurant\"\n",
        "    }\n",
        "    response = requests.get(url, params=params)\n",
        "    return response.json()"
      ]
    },
    {
      "cell_type": "code",
      "source": [
        "# Example usage\n",
        "place_data = search_place(\"Pizza\", \"52.5200,13.4050\")\n",
        "place_data"
      ],
      "metadata": {
        "colab": {
          "base_uri": "https://localhost:8080/"
        },
        "id": "jonqVrlDyz1k",
        "outputId": "bb61f32c-3aa5-49a4-821a-3dc60eb0402c"
      },
      "execution_count": null,
      "outputs": [
        {
          "output_type": "execute_result",
          "data": {
            "text/plain": [
              "{'statusCode': 400,\n",
              " 'error': 'Bad Request',\n",
              " 'message': '\"value\" must contain at least one of [geometryId, lat1, lat, filter, bias]'}"
            ]
          },
          "metadata": {},
          "execution_count": 8
        }
      ]
    },
    {
      "cell_type": "markdown",
      "source": [
        "### foursquare"
      ],
      "metadata": {
        "id": "U4tgrAZ90u9q"
      }
    },
    {
      "cell_type": "code",
      "source": [
        "import requests\n",
        "\n",
        "# Foursquare API credentials\n",
        "BASE_URL = \"https://api.foursquare.com/v3/places\"\n",
        "\n",
        "headers = {\n",
        "    \"Authorization\": FOURSQUARE_API_KEY\n",
        "}\n",
        "\n",
        "# Function to search for a place by name and location\n",
        "def search_place_by_name(place_name, country, city):\n",
        "    url = f\"{BASE_URL}/search\"\n",
        "    params = {\n",
        "        \"query\": place_name,\n",
        "        \"near\": f\"{city}, {country}\",\n",
        "        \"limit\": 1\n",
        "    }\n",
        "    response = requests.get(url, headers=headers, params=params)\n",
        "    if response.status_code == 200:\n",
        "        return response.json()\n",
        "    else:\n",
        "        print(\"Error:\", response.status_code, response.json())\n",
        "        return None\n",
        "\n",
        "# Function to get recommendations for a dish or activity in a city\n",
        "def search_recommendations(query, country, city):\n",
        "    url = f\"{BASE_URL}/search\"\n",
        "    params = {\n",
        "        \"query\": query,\n",
        "        \"near\": f\"{city}, {country}\",\n",
        "        \"limit\": 5\n",
        "    }\n",
        "    response = requests.get(url, headers=headers, params=params)\n",
        "    if response.status_code == 200:\n",
        "        return response.json()\n",
        "    else:\n",
        "        print(\"Error:\", response.status_code, response.json())\n",
        "        return None\n",
        "\n",
        "# Testing the functions\n",
        "if __name__ == \"__main__\":\n",
        "    # Use Case 1: Search for a specific place\n",
        "    place_name = \"Burger King\"\n",
        "    country = \"Germany\"\n",
        "    city = \"Berlin\"\n",
        "    place_info = search_place_by_name(place_name, country, city)\n",
        "    print(\"Place Info:\", place_info)\n",
        "\n",
        "    # Use Case 2: Search for recommendations\n",
        "    query = \"Pizza\"\n",
        "    recommendations = search_recommendations(query, country, city)\n",
        "    print(\"Recommendations:\", recommendations)\n"
      ],
      "metadata": {
        "colab": {
          "base_uri": "https://localhost:8080/"
        },
        "id": "QKON024r0w9J",
        "outputId": "a8294079-edae-48f3-aa67-2220b7966733"
      },
      "execution_count": 2,
      "outputs": [
        {
          "output_type": "stream",
          "name": "stdout",
          "text": [
            "Place Info: {'results': [{'fsq_id': '4b795396f964a52019f42ee3', 'categories': [{'id': 13031, 'name': 'Burger Joint', 'short_name': 'Burgers', 'plural_name': 'Burger Joints', 'icon': {'prefix': 'https://ss3.4sqi.net/img/categories_v2/food/burger_', 'suffix': '.png'}}, {'id': 13145, 'name': 'Fast Food Restaurant', 'short_name': 'Fast Food', 'plural_name': 'Fast Food Restaurants', 'icon': {'prefix': 'https://ss3.4sqi.net/img/categories_v2/food/fastfood_', 'suffix': '.png'}}], 'chains': [{'id': 'ab4a9b10-d68a-012e-5619-003048cad9da', 'name': 'Burger King'}], 'closed_bucket': 'VeryLikelyOpen', 'distance': 269, 'geocodes': {'main': {'latitude': 52.522511, 'longitude': 13.412884}, 'roof': {'latitude': 52.522511, 'longitude': 13.412884}}, 'link': '/v3/places/4b795396f964a52019f42ee3', 'location': {'address': 'Alexanderplatz 8', 'country': 'DE', 'formatted_address': 'Alexanderplatz 8, 10178 Berlin', 'locality': 'Berlin', 'postcode': '10178', 'region': 'Berlin'}, 'name': 'Burger King', 'related_places': {}, 'timezone': 'Europe/Berlin'}], 'context': {'geo_bounds': {'circle': {'center': {'latitude': 52.52437, 'longitude': 13.41053}, 'radius': 19832}}}}\n",
            "Recommendations: {'results': [{'fsq_id': '518c384d498e555418562658', 'categories': [{'id': 13032, 'name': 'Cafe, Coffee, and Tea House', 'short_name': 'Cafe, Coffee, and Tea House', 'plural_name': 'Cafes, Coffee, and Tea Houses', 'icon': {'prefix': 'https://ss3.4sqi.net/img/categories_v2/food/coffeeshop_', 'suffix': '.png'}}, {'id': 13236, 'name': 'Italian Restaurant', 'short_name': 'Italian', 'plural_name': 'Italian Restaurants', 'icon': {'prefix': 'https://ss3.4sqi.net/img/categories_v2/food/italian_', 'suffix': '.png'}}], 'chains': [], 'closed_bucket': 'VeryLikelyOpen', 'distance': 734, 'geocodes': {'drop_off': {'latitude': 52.52974, 'longitude': 13.404571}, 'main': {'latitude': 52.529903, 'longitude': 13.404599}, 'roof': {'latitude': 52.529903, 'longitude': 13.404599}}, 'link': '/v3/places/518c384d498e555418562658', 'location': {'address': 'Torstr. 97', 'country': 'DE', 'cross_street': '', 'formatted_address': 'Torstr. 97, 10119 Berlin', 'locality': 'Berlin', 'postcode': '10119', 'region': 'Berlin'}, 'name': 'Mozzarella & Pomodoro', 'related_places': {}, 'timezone': 'Europe/Berlin'}, {'fsq_id': '60ca8ab4f7e4f8340be38113', 'categories': [{'id': 13064, 'name': 'Pizzeria', 'short_name': 'Pizza', 'plural_name': 'Pizzerias', 'icon': {'prefix': 'https://ss3.4sqi.net/img/categories_v2/food/pizza_', 'suffix': '.png'}}], 'chains': [], 'closed_bucket': 'VeryLikelyOpen', 'distance': 770, 'geocodes': {'drop_off': {'latitude': 52.528937, 'longitude': 13.401904}, 'main': {'latitude': 52.528772, 'longitude': 13.401731}, 'roof': {'latitude': 52.528772, 'longitude': 13.401731}}, 'link': '/v3/places/60ca8ab4f7e4f8340be38113', 'location': {'address': 'Rosenthaler Str. 3', 'country': 'DE', 'cross_street': '', 'formatted_address': 'Rosenthaler Str. 3, 10119 Berlin', 'locality': 'Berlin', 'postcode': '10119', 'region': 'Berlin'}, 'name': 'Lovebirds - Contemporary Pizza', 'related_places': {}, 'timezone': 'Europe/Berlin'}, {'fsq_id': '601bdf773186f11db4eeb194', 'categories': [{'id': 13064, 'name': 'Pizzeria', 'short_name': 'Pizza', 'plural_name': 'Pizzerias', 'icon': {'prefix': 'https://ss3.4sqi.net/img/categories_v2/food/pizza_', 'suffix': '.png'}}], 'chains': [], 'closed_bucket': 'VeryLikelyOpen', 'distance': 730, 'geocodes': {'drop_off': {'latitude': 52.529678, 'longitude': 13.403921}, 'main': {'latitude': 52.529558, 'longitude': 13.4039}, 'roof': {'latitude': 52.529558, 'longitude': 13.4039}}, 'link': '/v3/places/601bdf773186f11db4eeb194', 'location': {'address': 'Torstr. 102', 'country': 'DE', 'cross_street': '', 'formatted_address': 'Torstr. 102, 10119 Berlin', 'locality': 'Berlin', 'postcode': '10119', 'region': 'Berlin'}, 'name': 'Standard Serious Pizza', 'related_places': {}, 'timezone': 'Europe/Berlin'}, {'fsq_id': '60db600ccf98b14395def705', 'categories': [{'id': 13064, 'name': 'Pizzeria', 'short_name': 'Pizza', 'plural_name': 'Pizzerias', 'icon': {'prefix': 'https://ss3.4sqi.net/img/categories_v2/food/pizza_', 'suffix': '.png'}}], 'chains': [], 'closed_bucket': 'VeryLikelyOpen', 'distance': 932, 'geocodes': {'drop_off': {'latitude': 52.530623, 'longitude': 13.401991}, 'main': {'latitude': 52.530834, 'longitude': 13.401729}, 'roof': {'latitude': 52.530834, 'longitude': 13.401729}}, 'link': '/v3/places/60db600ccf98b14395def705', 'location': {'address': 'Weinbergsweg 24', 'country': 'DE', 'cross_street': '', 'formatted_address': 'Weinbergsweg 24, 10119 Berlin', 'locality': 'Berlin', 'postcode': '10119', 'region': 'Berlin'}, 'name': 'Capvin', 'related_places': {}, 'timezone': 'Europe/Berlin'}, {'fsq_id': '4b54ad4af964a5208bc627e3', 'categories': [{'id': 13064, 'name': 'Pizzeria', 'short_name': 'Pizza', 'plural_name': 'Pizzerias', 'icon': {'prefix': 'https://ss3.4sqi.net/img/categories_v2/food/pizza_', 'suffix': '.png'}}, {'id': 13236, 'name': 'Italian Restaurant', 'short_name': 'Italian', 'plural_name': 'Italian Restaurants', 'icon': {'prefix': 'https://ss3.4sqi.net/img/categories_v2/food/italian_', 'suffix': '.png'}}], 'chains': [], 'closed_bucket': 'VeryLikelyOpen', 'distance': 724, 'geocodes': {'main': {'latitude': 52.530787, 'longitude': 13.412513}, 'roof': {'latitude': 52.530787, 'longitude': 13.412513}}, 'link': '/v3/places/4b54ad4af964a5208bc627e3', 'location': {'address': 'Schönhauser Allee 12', 'country': 'DE', 'cross_street': 'Saarbrücker Str.', 'formatted_address': 'Schönhauser Allee 12 (Saarbrücker Str.), 10119 Berlin', 'locality': 'Berlin', 'postcode': '10119', 'region': 'Berlin'}, 'name': 'I Due Forni', 'related_places': {}, 'timezone': 'Europe/Berlin'}], 'context': {'geo_bounds': {'circle': {'center': {'latitude': 52.52437, 'longitude': 13.41053}, 'radius': 19832}}}}\n"
          ]
        }
      ]
    },
    {
      "cell_type": "code",
      "source": [
        "place_info"
      ],
      "metadata": {
        "colab": {
          "base_uri": "https://localhost:8080/"
        },
        "id": "oxzbLSs7y_d8",
        "outputId": "36bb65de-8d9f-44d3-f2da-ea68d6654d7f"
      },
      "execution_count": null,
      "outputs": [
        {
          "output_type": "execute_result",
          "data": {
            "text/plain": [
              "{'results': [{'fsq_id': '4b795396f964a52019f42ee3',\n",
              "   'categories': [{'id': 13031,\n",
              "     'name': 'Burger Joint',\n",
              "     'short_name': 'Burgers',\n",
              "     'plural_name': 'Burger Joints',\n",
              "     'icon': {'prefix': 'https://ss3.4sqi.net/img/categories_v2/food/burger_',\n",
              "      'suffix': '.png'}},\n",
              "    {'id': 13145,\n",
              "     'name': 'Fast Food Restaurant',\n",
              "     'short_name': 'Fast Food',\n",
              "     'plural_name': 'Fast Food Restaurants',\n",
              "     'icon': {'prefix': 'https://ss3.4sqi.net/img/categories_v2/food/fastfood_',\n",
              "      'suffix': '.png'}}],\n",
              "   'chains': [{'id': 'ab4a9b10-d68a-012e-5619-003048cad9da',\n",
              "     'name': 'Burger King'}],\n",
              "   'closed_bucket': 'VeryLikelyOpen',\n",
              "   'distance': 269,\n",
              "   'geocodes': {'main': {'latitude': 52.522511, 'longitude': 13.412884},\n",
              "    'roof': {'latitude': 52.522511, 'longitude': 13.412884}},\n",
              "   'link': '/v3/places/4b795396f964a52019f42ee3',\n",
              "   'location': {'address': 'Alexanderplatz 8',\n",
              "    'country': 'DE',\n",
              "    'formatted_address': 'Alexanderplatz 8, 10178 Berlin',\n",
              "    'locality': 'Berlin',\n",
              "    'postcode': '10178',\n",
              "    'region': 'Berlin'},\n",
              "   'name': 'Burger King',\n",
              "   'related_places': {},\n",
              "   'timezone': 'Europe/Berlin'}],\n",
              " 'context': {'geo_bounds': {'circle': {'center': {'latitude': 52.52437,\n",
              "     'longitude': 13.41053},\n",
              "    'radius': 19832}}}}"
            ]
          },
          "metadata": {},
          "execution_count": 11
        }
      ]
    },
    {
      "cell_type": "code",
      "source": [
        "recommendations"
      ],
      "metadata": {
        "colab": {
          "base_uri": "https://localhost:8080/"
        },
        "id": "yPKYYDfc1izY",
        "outputId": "855670c9-0400-437c-ee07-f4debea1e9cc"
      },
      "execution_count": null,
      "outputs": [
        {
          "output_type": "execute_result",
          "data": {
            "text/plain": [
              "{'results': [{'fsq_id': '518c384d498e555418562658',\n",
              "   'categories': [{'id': 13032,\n",
              "     'name': 'Cafe, Coffee, and Tea House',\n",
              "     'short_name': 'Cafe, Coffee, and Tea House',\n",
              "     'plural_name': 'Cafes, Coffee, and Tea Houses',\n",
              "     'icon': {'prefix': 'https://ss3.4sqi.net/img/categories_v2/food/coffeeshop_',\n",
              "      'suffix': '.png'}},\n",
              "    {'id': 13236,\n",
              "     'name': 'Italian Restaurant',\n",
              "     'short_name': 'Italian',\n",
              "     'plural_name': 'Italian Restaurants',\n",
              "     'icon': {'prefix': 'https://ss3.4sqi.net/img/categories_v2/food/italian_',\n",
              "      'suffix': '.png'}}],\n",
              "   'chains': [],\n",
              "   'closed_bucket': 'VeryLikelyOpen',\n",
              "   'distance': 734,\n",
              "   'geocodes': {'drop_off': {'latitude': 52.52974, 'longitude': 13.404571},\n",
              "    'main': {'latitude': 52.529903, 'longitude': 13.404599},\n",
              "    'roof': {'latitude': 52.529903, 'longitude': 13.404599}},\n",
              "   'link': '/v3/places/518c384d498e555418562658',\n",
              "   'location': {'address': 'Torstr. 97',\n",
              "    'country': 'DE',\n",
              "    'cross_street': '',\n",
              "    'formatted_address': 'Torstr. 97, 10119 Berlin',\n",
              "    'locality': 'Berlin',\n",
              "    'postcode': '10119',\n",
              "    'region': 'Berlin'},\n",
              "   'name': 'Mozzarella & Pomodoro',\n",
              "   'related_places': {},\n",
              "   'timezone': 'Europe/Berlin'},\n",
              "  {'fsq_id': '60ca8ab4f7e4f8340be38113',\n",
              "   'categories': [{'id': 13064,\n",
              "     'name': 'Pizzeria',\n",
              "     'short_name': 'Pizza',\n",
              "     'plural_name': 'Pizzerias',\n",
              "     'icon': {'prefix': 'https://ss3.4sqi.net/img/categories_v2/food/pizza_',\n",
              "      'suffix': '.png'}}],\n",
              "   'chains': [],\n",
              "   'closed_bucket': 'VeryLikelyOpen',\n",
              "   'distance': 770,\n",
              "   'geocodes': {'drop_off': {'latitude': 52.528937, 'longitude': 13.401904},\n",
              "    'main': {'latitude': 52.528772, 'longitude': 13.401731},\n",
              "    'roof': {'latitude': 52.528772, 'longitude': 13.401731}},\n",
              "   'link': '/v3/places/60ca8ab4f7e4f8340be38113',\n",
              "   'location': {'address': 'Rosenthaler Str. 3',\n",
              "    'country': 'DE',\n",
              "    'cross_street': '',\n",
              "    'formatted_address': 'Rosenthaler Str. 3, 10119 Berlin',\n",
              "    'locality': 'Berlin',\n",
              "    'postcode': '10119',\n",
              "    'region': 'Berlin'},\n",
              "   'name': 'Lovebirds - Contemporary Pizza',\n",
              "   'related_places': {},\n",
              "   'timezone': 'Europe/Berlin'},\n",
              "  {'fsq_id': '601bdf773186f11db4eeb194',\n",
              "   'categories': [{'id': 13064,\n",
              "     'name': 'Pizzeria',\n",
              "     'short_name': 'Pizza',\n",
              "     'plural_name': 'Pizzerias',\n",
              "     'icon': {'prefix': 'https://ss3.4sqi.net/img/categories_v2/food/pizza_',\n",
              "      'suffix': '.png'}}],\n",
              "   'chains': [],\n",
              "   'closed_bucket': 'VeryLikelyOpen',\n",
              "   'distance': 730,\n",
              "   'geocodes': {'drop_off': {'latitude': 52.529678, 'longitude': 13.403921},\n",
              "    'main': {'latitude': 52.529558, 'longitude': 13.4039},\n",
              "    'roof': {'latitude': 52.529558, 'longitude': 13.4039}},\n",
              "   'link': '/v3/places/601bdf773186f11db4eeb194',\n",
              "   'location': {'address': 'Torstr. 102',\n",
              "    'country': 'DE',\n",
              "    'cross_street': '',\n",
              "    'formatted_address': 'Torstr. 102, 10119 Berlin',\n",
              "    'locality': 'Berlin',\n",
              "    'postcode': '10119',\n",
              "    'region': 'Berlin'},\n",
              "   'name': 'Standard Serious Pizza',\n",
              "   'related_places': {},\n",
              "   'timezone': 'Europe/Berlin'},\n",
              "  {'fsq_id': '60db600ccf98b14395def705',\n",
              "   'categories': [{'id': 13064,\n",
              "     'name': 'Pizzeria',\n",
              "     'short_name': 'Pizza',\n",
              "     'plural_name': 'Pizzerias',\n",
              "     'icon': {'prefix': 'https://ss3.4sqi.net/img/categories_v2/food/pizza_',\n",
              "      'suffix': '.png'}}],\n",
              "   'chains': [],\n",
              "   'closed_bucket': 'VeryLikelyOpen',\n",
              "   'distance': 932,\n",
              "   'geocodes': {'drop_off': {'latitude': 52.530623, 'longitude': 13.401991},\n",
              "    'main': {'latitude': 52.530834, 'longitude': 13.401729},\n",
              "    'roof': {'latitude': 52.530834, 'longitude': 13.401729}},\n",
              "   'link': '/v3/places/60db600ccf98b14395def705',\n",
              "   'location': {'address': 'Weinbergsweg 24',\n",
              "    'country': 'DE',\n",
              "    'cross_street': '',\n",
              "    'formatted_address': 'Weinbergsweg 24, 10119 Berlin',\n",
              "    'locality': 'Berlin',\n",
              "    'postcode': '10119',\n",
              "    'region': 'Berlin'},\n",
              "   'name': 'Capvin',\n",
              "   'related_places': {},\n",
              "   'timezone': 'Europe/Berlin'},\n",
              "  {'fsq_id': '4b54ad4af964a5208bc627e3',\n",
              "   'categories': [{'id': 13064,\n",
              "     'name': 'Pizzeria',\n",
              "     'short_name': 'Pizza',\n",
              "     'plural_name': 'Pizzerias',\n",
              "     'icon': {'prefix': 'https://ss3.4sqi.net/img/categories_v2/food/pizza_',\n",
              "      'suffix': '.png'}},\n",
              "    {'id': 13236,\n",
              "     'name': 'Italian Restaurant',\n",
              "     'short_name': 'Italian',\n",
              "     'plural_name': 'Italian Restaurants',\n",
              "     'icon': {'prefix': 'https://ss3.4sqi.net/img/categories_v2/food/italian_',\n",
              "      'suffix': '.png'}}],\n",
              "   'chains': [],\n",
              "   'closed_bucket': 'VeryLikelyOpen',\n",
              "   'distance': 724,\n",
              "   'geocodes': {'main': {'latitude': 52.530787, 'longitude': 13.412513},\n",
              "    'roof': {'latitude': 52.530787, 'longitude': 13.412513}},\n",
              "   'link': '/v3/places/4b54ad4af964a5208bc627e3',\n",
              "   'location': {'address': 'Schönhauser Allee 12',\n",
              "    'country': 'DE',\n",
              "    'cross_street': 'Saarbrücker Str.',\n",
              "    'formatted_address': 'Schönhauser Allee 12 (Saarbrücker Str.), 10119 Berlin',\n",
              "    'locality': 'Berlin',\n",
              "    'postcode': '10119',\n",
              "    'region': 'Berlin'},\n",
              "   'name': 'I Due Forni',\n",
              "   'related_places': {},\n",
              "   'timezone': 'Europe/Berlin'}],\n",
              " 'context': {'geo_bounds': {'circle': {'center': {'latitude': 52.52437,\n",
              "     'longitude': 13.41053},\n",
              "    'radius': 19832}}}}"
            ]
          },
          "metadata": {},
          "execution_count": 12
        }
      ]
    },
    {
      "cell_type": "code",
      "source": [
        "# Function to get tips/reviews for a specific place\n",
        "def get_place_tips(fsq_id):\n",
        "    url = f\"{BASE_URL}/{fsq_id}/tips\"\n",
        "    response = requests.get(url, headers=headers)\n",
        "    if response.status_code == 200:\n",
        "        return response.json() #.get(\"tips\", [])  # Return list of tips\n",
        "    else:\n",
        "        print(\"Error:\", response.status_code, response.json())\n",
        "        return []\n",
        "\n",
        "# Testing the functions\n",
        "if __name__ == \"__main__\":\n",
        "    # Use Case 1: Search for a specific place and fetch its reviews\n",
        "    place_name = \"Burger King\"\n",
        "    country = \"Germany\"\n",
        "    city = \"Berlin\"\n",
        "    place_info = search_place_by_name(place_name, country, city)\n",
        "    if place_info:\n",
        "        print(\"Place Info:\", place_info)\n",
        "        fsq_id = place_info['results'][0]['fsq_id'] # Unique ID for the place\n",
        "        tips = get_place_tips(fsq_id)\n",
        "        print(\"Reviews/Tips:\", tips)\n",
        "\n",
        "    # Use Case 2: Search for recommendations and fetch their reviews\n",
        "    query = \"Pizza\"\n",
        "    recommendations = search_recommendations(query, country, city)\n",
        "    for place in recommendations['results']:\n",
        "        print(\"Place:\", place)\n",
        "        fsq_id = place[\"fsq_id\"]\n",
        "        tips = get_place_tips(fsq_id)\n",
        "        print(\"Reviews/Tips for\", place[\"name\"], \":\", tips)"
      ],
      "metadata": {
        "colab": {
          "base_uri": "https://localhost:8080/"
        },
        "id": "SO4GBgLT6QDr",
        "outputId": "45bb2e9d-2d82-4349-9ae4-49b3fcbe6ae3"
      },
      "execution_count": 8,
      "outputs": [
        {
          "output_type": "stream",
          "name": "stdout",
          "text": [
            "Place Info: {'results': [{'fsq_id': '4b795396f964a52019f42ee3', 'categories': [{'id': 13031, 'name': 'Burger Joint', 'short_name': 'Burgers', 'plural_name': 'Burger Joints', 'icon': {'prefix': 'https://ss3.4sqi.net/img/categories_v2/food/burger_', 'suffix': '.png'}}, {'id': 13145, 'name': 'Fast Food Restaurant', 'short_name': 'Fast Food', 'plural_name': 'Fast Food Restaurants', 'icon': {'prefix': 'https://ss3.4sqi.net/img/categories_v2/food/fastfood_', 'suffix': '.png'}}], 'chains': [{'id': 'ab4a9b10-d68a-012e-5619-003048cad9da', 'name': 'Burger King'}], 'closed_bucket': 'VeryLikelyOpen', 'distance': 269, 'geocodes': {'main': {'latitude': 52.522511, 'longitude': 13.412884}, 'roof': {'latitude': 52.522511, 'longitude': 13.412884}}, 'link': '/v3/places/4b795396f964a52019f42ee3', 'location': {'address': 'Alexanderplatz 8', 'country': 'DE', 'formatted_address': 'Alexanderplatz 8, 10178 Berlin', 'locality': 'Berlin', 'postcode': '10178', 'region': 'Berlin'}, 'name': 'Burger King', 'related_places': {}, 'timezone': 'Europe/Berlin'}], 'context': {'geo_bounds': {'circle': {'center': {'latitude': 52.52437, 'longitude': 13.41053}, 'radius': 19832}}}}\n",
            "Reviews/Tips: [{'id': '56afdd56498eeae8a0c0492f', 'created_at': '2016-02-01T22:33:58.000Z', 'text': 'Whoppers are just yummy burgers if you have this craving... 😊 Not a regular or special burger place but one where you always know what you get... 😊'}, {'id': '54e20f3f498e3bd64e476f38', 'created_at': '2015-02-16T15:39:43.000Z', 'text': 'Whoppers! Near TV tower in Berlin.'}, {'id': '52dfd0ec498edeeed0929e49', 'created_at': '2014-01-22T14:08:44.000Z', 'text': \"Surprisingly good off menu veggie burger called the 'Country Burger' try it! :)\"}, {'id': '53e4c035498e15271ef41e4f', 'created_at': '2014-08-08T12:19:01.000Z', 'text': 'Cheap and simple but enough. In the late night Fries is finished.'}, {'id': '5505ac74498ed71e4ffbe0db', 'created_at': '2015-03-15T15:59:48.000Z', 'text': 'One of the worst yet most expensive meals at Burger King over the world. The burger was dry and old and disgusting. Awful atmosphere. There are so many great street stalls outside. Do not go in here.'}, {'id': '57b5d401498e83ad7ded3969', 'created_at': '2016-08-18T15:28:01.000Z', 'text': \"Worst Burger King I have ever been. You can't pay by credit card or pin, only cash. The employees are rude and look very bored. Wifi was available but didn't work. Skip this Burger King!!\"}, {'id': '56280d1a498e0d014fdbe35c', 'created_at': '2015-10-21T22:09:30.000Z', 'text': \"As ugly as the place where it's located at!\"}, {'id': '51cc9bac498ed3d717e90863', 'created_at': '2013-06-27T20:08:12.000Z', 'text': 'Probably the ugliest burger king in the whole world!'}, {'id': '521fc54d11d2df0993701023', 'created_at': '2013-08-29T22:03:57.000Z', 'text': 'a postapocalyptic, surreal place with misanthropic service staff'}, {'id': '6468bfe64c5e0f63b150da0c', 'created_at': '2023-05-20T12:41:10.000Z', 'text': 'Regular BK, zero surprises.'}]\n",
            "Place: {'fsq_id': '518c384d498e555418562658', 'categories': [{'id': 13032, 'name': 'Cafe, Coffee, and Tea House', 'short_name': 'Cafe, Coffee, and Tea House', 'plural_name': 'Cafes, Coffee, and Tea Houses', 'icon': {'prefix': 'https://ss3.4sqi.net/img/categories_v2/food/coffeeshop_', 'suffix': '.png'}}, {'id': 13236, 'name': 'Italian Restaurant', 'short_name': 'Italian', 'plural_name': 'Italian Restaurants', 'icon': {'prefix': 'https://ss3.4sqi.net/img/categories_v2/food/italian_', 'suffix': '.png'}}], 'chains': [], 'closed_bucket': 'VeryLikelyOpen', 'distance': 734, 'geocodes': {'drop_off': {'latitude': 52.52974, 'longitude': 13.404571}, 'main': {'latitude': 52.529903, 'longitude': 13.404599}, 'roof': {'latitude': 52.529903, 'longitude': 13.404599}}, 'link': '/v3/places/518c384d498e555418562658', 'location': {'address': 'Torstr. 97', 'country': 'DE', 'cross_street': '', 'formatted_address': 'Torstr. 97, 10119 Berlin', 'locality': 'Berlin', 'postcode': '10119', 'region': 'Berlin'}, 'name': 'Mozzarella & Pomodoro', 'related_places': {}, 'timezone': 'Europe/Berlin'}\n",
            "Reviews/Tips for Mozzarella & Pomodoro : [{'id': '5c79b543c58ed7002c682635', 'created_at': '2019-03-01T22:42:11.000Z', 'text': 'Nice atmosphere, feels like you have been teleported directly to Italy, great pizza and salad, very affordable. Not forgetting very friendly staff. Definitely the best place in the area!'}, {'id': '6406350a31ec2f77e88d52da', 'created_at': '2023-03-06T18:46:34.000Z', 'text': 'Amazing Italian place: tiny, cozy, simple, and tasty. Food so good, it can even cheer up sad Ferrari fans in 2022 and 2023 seasons'}, {'id': '571fcdc5cd10381663ddc4ff', 'created_at': '2016-04-26T20:21:25.000Z', 'text': 'Lasagna & pizza were one of the best in this area. They also speak italian which was a big positive surprise.'}, {'id': '56fad486498ed539fe77a37f', 'created_at': '2016-03-29T19:16:22.000Z', 'text': 'Owner is very friendly. Simple, uncomplicated Italian food. Service is fast, so its perfect for a quick bite.'}, {'id': '571fcd4c498e674dd99868d5', 'created_at': '2016-04-26T20:19:24.000Z', 'text': 'The pizzas and lasagna are fantastic! The owner is actually from Italy and extra nice. 😊'}, {'id': '57e19ac9498ea711bd3f9745', 'created_at': '2016-09-20T20:23:37.000Z', 'text': 'Simple, fast and delicious. I recommend the spicy salami pizza'}, {'id': '57867596498edb61e76fb0c5', 'created_at': '2016-07-13T17:08:38.000Z', 'text': 'Great pizza and Lasagne for fair price!'}, {'id': '56433b43498e99d2835ad90b', 'created_at': '2015-11-11T12:57:39.000Z', 'text': 'Little Italian place with fresh quality products'}, {'id': '55b7de7d498e64261f40636e', 'created_at': '2015-07-28T19:56:45.000Z', 'text': 'Brilliant pizza, owner is a great guy too'}, {'id': '5318dee2498eadeb2cf1e4a8', 'created_at': '2014-03-06T20:47:30.000Z', 'text': 'Very friendly Owner and fair priced Food and Drinks!!'}]\n",
            "Place: {'fsq_id': '60ca8ab4f7e4f8340be38113', 'categories': [{'id': 13064, 'name': 'Pizzeria', 'short_name': 'Pizza', 'plural_name': 'Pizzerias', 'icon': {'prefix': 'https://ss3.4sqi.net/img/categories_v2/food/pizza_', 'suffix': '.png'}}], 'chains': [], 'closed_bucket': 'VeryLikelyOpen', 'distance': 770, 'geocodes': {'drop_off': {'latitude': 52.528937, 'longitude': 13.401904}, 'main': {'latitude': 52.528772, 'longitude': 13.401731}, 'roof': {'latitude': 52.528772, 'longitude': 13.401731}}, 'link': '/v3/places/60ca8ab4f7e4f8340be38113', 'location': {'address': 'Rosenthaler Str. 3', 'country': 'DE', 'cross_street': '', 'formatted_address': 'Rosenthaler Str. 3, 10119 Berlin', 'locality': 'Berlin', 'postcode': '10119', 'region': 'Berlin'}, 'name': 'Lovebirds - Contemporary Pizza', 'related_places': {}, 'timezone': 'Europe/Berlin'}\n",
            "Reviews/Tips for Lovebirds - Contemporary Pizza : [{'id': '63459a3ff3d2e7499b566659', 'created_at': '2022-10-11T16:30:55.000Z', 'text': 'Very special, innovative and delicious pizza! My favourite: Pizza carbonara. Friendly staff.'}, {'id': '626c356aa3375a60e35856e2', 'created_at': '2022-04-29T18:58:50.000Z', 'text': 'I had two different kinds of gluten-free pizza and they were so good! I couldn’t believe how chewy the crust was. 😋'}, {'id': '63bb479f7167c82f3bd8d9da', 'created_at': '2023-01-08T22:45:51.000Z', 'text': 'Friendly staff, special pizza. Pizza Flora (pic)'}, {'id': '63498e4a427ea461de631457', 'created_at': '2022-10-14T16:28:58.000Z', 'text': 'Great spot! Pizza Amatriciana (pic)'}, {'id': '627eafb655763f3fb88a298b', 'created_at': '2022-05-13T19:21:26.000Z', 'text': '30 euros for 2 pizzas but they are worth it. 10/10.'}, {'id': '616d12bef22d8c2b082dbd44', 'created_at': '2021-10-18T06:22:54.000Z', 'text': 'Natural wines 👌'}, {'id': '614ce9b9ec5aee4f4029269c', 'created_at': '2021-09-23T20:55:21.000Z', 'text': 'Vegane glutenfreie Pizza war eine interessante Abwechslung und gut gelungen.'}]\n",
            "Place: {'fsq_id': '601bdf773186f11db4eeb194', 'categories': [{'id': 13064, 'name': 'Pizzeria', 'short_name': 'Pizza', 'plural_name': 'Pizzerias', 'icon': {'prefix': 'https://ss3.4sqi.net/img/categories_v2/food/pizza_', 'suffix': '.png'}}], 'chains': [], 'closed_bucket': 'VeryLikelyOpen', 'distance': 730, 'geocodes': {'drop_off': {'latitude': 52.529678, 'longitude': 13.403921}, 'main': {'latitude': 52.529558, 'longitude': 13.4039}, 'roof': {'latitude': 52.529558, 'longitude': 13.4039}}, 'link': '/v3/places/601bdf773186f11db4eeb194', 'location': {'address': 'Torstr. 102', 'country': 'DE', 'cross_street': '', 'formatted_address': 'Torstr. 102, 10119 Berlin', 'locality': 'Berlin', 'postcode': '10119', 'region': 'Berlin'}, 'name': 'Standard Serious Pizza', 'related_places': {}, 'timezone': 'Europe/Berlin'}\n",
            "Reviews/Tips for Standard Serious Pizza : [{'id': '6120bf1df1f675711e836dc9', 'created_at': '2021-08-21T08:53:49.000Z', 'text': 'Good pizza with great dough. 🖤 Lovely staff. I would hope that they would put some extra love and detail into flavor combinations to make it worth the hype.'}, {'id': '64ab1be24e94f9268db73724', 'created_at': '2023-07-09T20:43:14.000Z', 'text': 'Second location. 11/10 points for quality of their pizzas. Awesome'}, {'id': '635c45d7a285b51d64ce2394', 'created_at': '2022-10-28T21:12:55.000Z', 'text': 'Great pizza! Friendly service'}, {'id': '632f40bc02e28327c53dfa1a', 'created_at': '2022-09-24T17:39:08.000Z', 'text': 'Great Pizza. Friendly service'}, {'id': '63bd57622d1f6717a3238fac', 'created_at': '2023-01-10T12:17:38.000Z', 'text': 'Sehr gute Neapolitanische Pizza. Freundlicher Service - Berlin-Mitte-Preise.'}]\n",
            "Place: {'fsq_id': '60db600ccf98b14395def705', 'categories': [{'id': 13064, 'name': 'Pizzeria', 'short_name': 'Pizza', 'plural_name': 'Pizzerias', 'icon': {'prefix': 'https://ss3.4sqi.net/img/categories_v2/food/pizza_', 'suffix': '.png'}}], 'chains': [], 'closed_bucket': 'VeryLikelyOpen', 'distance': 932, 'geocodes': {'drop_off': {'latitude': 52.530623, 'longitude': 13.401991}, 'main': {'latitude': 52.530834, 'longitude': 13.401729}, 'roof': {'latitude': 52.530834, 'longitude': 13.401729}}, 'link': '/v3/places/60db600ccf98b14395def705', 'location': {'address': 'Weinbergsweg 24', 'country': 'DE', 'cross_street': '', 'formatted_address': 'Weinbergsweg 24, 10119 Berlin', 'locality': 'Berlin', 'postcode': '10119', 'region': 'Berlin'}, 'name': 'Capvin', 'related_places': {}, 'timezone': 'Europe/Berlin'}\n",
            "Reviews/Tips for Capvin : [{'id': '61000d243fd3bb79802599cc', 'created_at': '2021-07-27T13:41:56.000Z', 'text': 'It really is very tasty!'}, {'id': '62c9841ee145ef1cb81d0945', 'created_at': '2022-07-09T13:35:26.000Z', 'text': 'Fluffy crust, saucy ‘zas. Good stuff.'}, {'id': '640de68ca78d6132a96894c5', 'created_at': '2023-03-12T14:49:48.000Z', 'text': 'Formaggi Pizza and polpettine e ricotta pizza were very good. I also liked amalfi limo.'}, {'id': '63b300f5557b73264db796c3', 'created_at': '2023-01-02T16:06:13.000Z', 'text': 'Leider lange Wartezeiten und teuer, aber die Pizza gehört zu den besten Berlins.'}]\n",
            "Place: {'fsq_id': '4b54ad4af964a5208bc627e3', 'categories': [{'id': 13064, 'name': 'Pizzeria', 'short_name': 'Pizza', 'plural_name': 'Pizzerias', 'icon': {'prefix': 'https://ss3.4sqi.net/img/categories_v2/food/pizza_', 'suffix': '.png'}}, {'id': 13236, 'name': 'Italian Restaurant', 'short_name': 'Italian', 'plural_name': 'Italian Restaurants', 'icon': {'prefix': 'https://ss3.4sqi.net/img/categories_v2/food/italian_', 'suffix': '.png'}}], 'chains': [], 'closed_bucket': 'VeryLikelyOpen', 'distance': 724, 'geocodes': {'main': {'latitude': 52.530787, 'longitude': 13.412513}, 'roof': {'latitude': 52.530787, 'longitude': 13.412513}}, 'link': '/v3/places/4b54ad4af964a5208bc627e3', 'location': {'address': 'Schönhauser Allee 12', 'country': 'DE', 'cross_street': 'Saarbrücker Str.', 'formatted_address': 'Schönhauser Allee 12 (Saarbrücker Str.), 10119 Berlin', 'locality': 'Berlin', 'postcode': '10119', 'region': 'Berlin'}, 'name': 'I Due Forni', 'related_places': {}, 'timezone': 'Europe/Berlin'}\n",
            "Reviews/Tips for I Due Forni : [{'id': '599745d367a9fe0b94273d6d', 'created_at': '2017-08-18T19:53:55.000Z', 'text': 'PIZZA ON A HILL Right spot for Pizza lovers - fresh ingredients, adequate size, fancy compositions. Very tasty, love it! Perfect place for a group. There is enough space outside, make a reservation!'}, {'id': '54eb1892498e4e4862565785', 'created_at': '2015-02-23T12:09:54.000Z', 'text': \"Perfect to have pizza with children. There's a lot of noise (not in a bad way) so your children do not necessarily have to be quiet. Pizza's are very good and in love with their frute di mare salad!\"}, {'id': '54fb60cb498e934306254129', 'created_at': '2015-03-07T20:34:19.000Z', 'text': 'Sometimes special atmosphere and service but still one of, if not the best pizza in town.'}, {'id': '5ccea6d0a35dce002cf511dd', 'created_at': '2019-05-05T09:03:12.000Z', 'text': 'Nice pizza. The Piccantissima was great - spicy salamis had a nice boldness of flavor. The Funghi pizza could have been better, as the red sauce felt too sweet. Good place to bring friends or groups.'}, {'id': '5de809e7b5af720006aac83e', 'created_at': '2019-12-04T19:32:55.000Z', 'text': 'If you’d have to describe Berlin in a restaurant, this place would be pretty much it - minus Döner & Currywurst. 😅The walls full of graffiti, staff dressed in their  Sunday sweatpants and attitude😁'}, {'id': '5aae8f9f535d6f33fb1675d3', 'created_at': '2018-03-18T16:11:11.000Z', 'text': 'Still my favorite pizza place in Berlin, even after trying all the dance Neapolitan pizza spots in the neighborhood! Try the Incredible or Ortolana for vegis!'}, {'id': '53e7b524498e7d351e91e88b', 'created_at': '2014-08-10T18:08:36.000Z', 'text': 'One of the best pizza places in Berlin. Noisy as hell, Italian non-friendly service, but great pizza (better than all these Turkish places that try to sell something which looks like pizza)'}, {'id': '54d6051c498e1a0bebfa6a19', 'created_at': '2015-02-07T12:29:16.000Z', 'text': 'Absolutely Italian place: menue written in Italian, people speaking Italian, even the waiters are required to be Italians! If you like that, enjoy! Besides, the food is great ;)'}, {'id': '5aae8f5c61f070710748641b', 'created_at': '2018-03-18T16:10:04.000Z', 'text': 'Still my favorite pizza place, even after trying all the fancy Neapolitan pizza offers in the neighborhood! Try the Incredible or Ortolana!'}, {'id': '57a9bdd7498ed9a9c5a73f87', 'created_at': '2016-08-09T11:26:15.000Z', 'text': \"The pizzas are usually the best option, the size is good enough for lunch, even to share. I've tried the Texana and Golosa, both are good\"}]\n"
          ]
        }
      ]
    },
    {
      "cell_type": "code",
      "source": [
        "recommendations['results'][0]['fsq_id']"
      ],
      "metadata": {
        "colab": {
          "base_uri": "https://localhost:8080/",
          "height": 55
        },
        "id": "pPxZmVA0TUS5",
        "outputId": "4eaea252-f3b3-4d60-c6c7-4b40160d61b6"
      },
      "execution_count": 7,
      "outputs": [
        {
          "output_type": "execute_result",
          "data": {
            "text/plain": [
              "'518c384d498e555418562658'"
            ],
            "application/vnd.google.colaboratory.intrinsic+json": {
              "type": "string"
            }
          },
          "metadata": {},
          "execution_count": 7
        }
      ]
    },
    {
      "cell_type": "code",
      "source": [
        "place_info['results'][0]['fsq_id']"
      ],
      "metadata": {
        "colab": {
          "base_uri": "https://localhost:8080/",
          "height": 35
        },
        "id": "VOUWSvy17klm",
        "outputId": "748ec3ae-b437-48f1-eadb-e61b4331390a"
      },
      "execution_count": null,
      "outputs": [
        {
          "output_type": "execute_result",
          "data": {
            "text/plain": [
              "'4b795396f964a52019f42ee3'"
            ],
            "application/vnd.google.colaboratory.intrinsic+json": {
              "type": "string"
            }
          },
          "metadata": {},
          "execution_count": 36
        }
      ]
    },
    {
      "cell_type": "code",
      "source": [
        "tips"
      ],
      "metadata": {
        "colab": {
          "base_uri": "https://localhost:8080/"
        },
        "id": "3ANh_OV98Ip7",
        "outputId": "3f8ab9c8-1c10-4dd1-8f32-4910743f112a"
      },
      "execution_count": null,
      "outputs": [
        {
          "output_type": "execute_result",
          "data": {
            "text/plain": [
              "[{'id': '56afdd56498eeae8a0c0492f',\n",
              "  'created_at': '2016-02-01T22:33:58.000Z',\n",
              "  'text': 'Whoppers are just yummy burgers if you have this craving... 😊 Not a regular or special burger place but one where you always know what you get... 😊'},\n",
              " {'id': '54e20f3f498e3bd64e476f38',\n",
              "  'created_at': '2015-02-16T15:39:43.000Z',\n",
              "  'text': 'Whoppers! Near TV tower in Berlin.'},\n",
              " {'id': '52dfd0ec498edeeed0929e49',\n",
              "  'created_at': '2014-01-22T14:08:44.000Z',\n",
              "  'text': \"Surprisingly good off menu veggie burger called the 'Country Burger' try it! :)\"},\n",
              " {'id': '53e4c035498e15271ef41e4f',\n",
              "  'created_at': '2014-08-08T12:19:01.000Z',\n",
              "  'text': 'Cheap and simple but enough. In the late night Fries is finished.'},\n",
              " {'id': '5505ac74498ed71e4ffbe0db',\n",
              "  'created_at': '2015-03-15T15:59:48.000Z',\n",
              "  'text': 'One of the worst yet most expensive meals at Burger King over the world. The burger was dry and old and disgusting. Awful atmosphere. There are so many great street stalls outside. Do not go in here.'},\n",
              " {'id': '57b5d401498e83ad7ded3969',\n",
              "  'created_at': '2016-08-18T15:28:01.000Z',\n",
              "  'text': \"Worst Burger King I have ever been. You can't pay by credit card or pin, only cash. The employees are rude and look very bored. Wifi was available but didn't work. Skip this Burger King!!\"},\n",
              " {'id': '56280d1a498e0d014fdbe35c',\n",
              "  'created_at': '2015-10-21T22:09:30.000Z',\n",
              "  'text': \"As ugly as the place where it's located at!\"},\n",
              " {'id': '51cc9bac498ed3d717e90863',\n",
              "  'created_at': '2013-06-27T20:08:12.000Z',\n",
              "  'text': 'Probably the ugliest burger king in the whole world!'},\n",
              " {'id': '521fc54d11d2df0993701023',\n",
              "  'created_at': '2013-08-29T22:03:57.000Z',\n",
              "  'text': 'a postapocalyptic, surreal place with misanthropic service staff'},\n",
              " {'id': '6468bfe64c5e0f63b150da0c',\n",
              "  'created_at': '2023-05-20T12:41:10.000Z',\n",
              "  'text': 'Regular BK, zero surprises.'}]"
            ]
          },
          "metadata": {},
          "execution_count": 39
        }
      ]
    },
    {
      "cell_type": "code",
      "source": [],
      "metadata": {
        "id": "AWgZNbv78mts"
      },
      "execution_count": null,
      "outputs": []
    }
  ]
}